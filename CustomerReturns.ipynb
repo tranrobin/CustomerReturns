{
  "cells": [
    {
      "cell_type": "markdown",
      "metadata": {
        "id": "view-in-github",
        "colab_type": "text"
      },
      "source": [
        "<a href=\"https://colab.research.google.com/github/tranrobin/CustomerReturns/blob/main/CustomerReturns.ipynb\" target=\"_parent\"><img src=\"https://colab.research.google.com/assets/colab-badge.svg\" alt=\"Open In Colab\"/></a>"
      ]
    },
    {
      "cell_type": "markdown",
      "metadata": {
        "id": "9TrXDXdJJBwC"
      },
      "source": [
        "# Set Up\n"
      ]
    },
    {
      "cell_type": "code",
      "execution_count": null,
      "metadata": {
        "id": "luXKl-KHS89d"
      },
      "outputs": [],
      "source": [
        "import numpy as np\n",
        "import pandas as pd\n",
        "import seaborn as sns\n",
        "import sklearn\n",
        "from sklearn.preprocessing import LabelEncoder\n",
        "from sklearn.model_selection import train_test_split\n",
        "from sklearn.linear_model import LogisticRegression\n",
        "from sklearn.metrics import accuracy_score\n",
        "from sklearn.metrics import classification_report\n",
        "from sklearn.preprocessing import StandardScaler\n",
        "from sklearn.tree import DecisionTreeRegressor\n",
        "from sklearn.metrics import mean_squared_error\n",
        "import matplotlib.pyplot as plt"
      ]
    },
    {
      "cell_type": "code",
      "source": [
        "from google.colab import drive\n",
        "drive.mount(\"/content/gdrive\")"
      ],
      "metadata": {
        "colab": {
          "base_uri": "https://localhost:8080/"
        },
        "id": "BGELClcAlJur",
        "outputId": "156b2a15-22c1-4186-b0e5-2e759f5bbdcf"
      },
      "execution_count": null,
      "outputs": [
        {
          "output_type": "stream",
          "name": "stdout",
          "text": [
            "Drive already mounted at /content/gdrive; to attempt to forcibly remount, call drive.mount(\"/content/gdrive\", force_remount=True).\n"
          ]
        }
      ]
    },
    {
      "cell_type": "code",
      "execution_count": null,
      "metadata": {
        "id": "JqATx16uWU57"
      },
      "outputs": [],
      "source": [
        "attorney = pd.read_csv(\"attorneys.csv\")\n",
        "to_drop = ['Id',\n",
        "           'StateName']\n",
        "attorney.drop(to_drop, inplace=True, axis=1)"
      ]
    },
    {
      "cell_type": "code",
      "execution_count": null,
      "metadata": {
        "id": "5oODp7UHxWMx"
      },
      "outputs": [],
      "source": [
        "client = pd.read_csv(\"clients.csv\")\n",
        "to_drop = [\"Id\",\n",
        "           \"StateName\"]\n",
        "client.drop(to_drop, inplace=True, axis=1)"
      ]
    },
    {
      "cell_type": "code",
      "execution_count": null,
      "metadata": {
        "id": "2OeCr8Ve0Ut6"
      },
      "outputs": [],
      "source": [
        "question = pd.read_csv(\"questions.csv\")\n",
        "question.drop(\"Id\", inplace=True, axis=1)"
      ]
    },
    {
      "cell_type": "code",
      "execution_count": null,
      "metadata": {
        "id": "MfAeUuwY0mgA"
      },
      "outputs": [],
      "source": [
        "client.rename(columns = {'StateAbbr':'Client_state', 'ClientUno':'Client_ID',\n",
        "                         'County':'Client_county','StateName':'Client_stateName',\n",
        "                         'PostalCode':'Client_postalCode'}, inplace = True)\n",
        "attorney.rename(columns = {'StateAbbr':'Attorney_state', 'AttorneyUno':'Attorney_ID',\n",
        "                           'City':'Attorney_city', 'County':'Attorney_county',\n",
        "                           'StateName':'Attorney_stateName','PostalCode':'Attorney_postalCode'}, inplace = True)"
      ]
    },
    {
      "cell_type": "markdown",
      "metadata": {
        "id": "TSalxEW7Jm42"
      },
      "source": [
        "# Create train & Data Cleaning"
      ]
    },
    {
      "cell_type": "markdown",
      "source": [
        "Create train table"
      ],
      "metadata": {
        "id": "D8ZFAlkamYm3"
      }
    },
    {
      "cell_type": "code",
      "execution_count": null,
      "metadata": {
        "id": "2MyVi6z0J71L"
      },
      "outputs": [],
      "source": [
        "client_question = pd.merge(client, question, left_on='Client_ID', right_on='AskedByClientUno')\n",
        "train = pd.merge(client_question, attorney, left_on='TakenByAttorneyUno', right_on='Attorney_ID')"
      ]
    },
    {
      "cell_type": "code",
      "execution_count": null,
      "metadata": {
        "id": "luwUKoxxJ8fE"
      },
      "outputs": [],
      "source": [
        "df_counts = train.groupby('AskedByClientUno').size().reset_index(name='NumberOfVisits')\n",
        "# add Repeat column to original dataframe\n",
        "df = train.merge(df_counts, on='AskedByClientUno')\n",
        "train['Repeat'] = (df['NumberOfVisits'] > 1).astype(int)"
      ]
    },
    {
      "cell_type": "code",
      "execution_count": null,
      "metadata": {
        "id": "MJEpxp5GJ-Fw"
      },
      "outputs": [],
      "source": [
        "# replace repetitive values\n",
        "train = train.replace(['I\\'d rather not answer', 'Other', 'Non-Conforming', 'Female,Non-Conforming', 'Female,Male',\n",
        "                       'Non-Conforming,Other', 'Female,Other', 'Male,Non-Conforming', 'Female,Male,Non-Conforming,Other'], 'Other')\n",
        "train = train.replace(['Married / remarried'], 'Married')\n",
        "train = train.replace(['Divorced or Widowed', 'Separated', 'Divorced', 'Widowed'], 'Separated/Divorced/Widowed')"
      ]
    },
    {
      "cell_type": "code",
      "execution_count": null,
      "metadata": {
        "id": "9cR3V51XJ_rl"
      },
      "outputs": [],
      "source": [
        "to_drop = [\"Client_postalCode\", \"Client_county\", \"Client_ID\", \"EthnicIdentity\",\n",
        "           \"Attorney_ID\", \"Attorney_postalCode\", \"Attorney_county\", \"Attorney_city\", \"StateAbbr\",\n",
        "           \"InvestmentsBalance\", \"SavingsBalance\", \"AllowedIncome\",\n",
        "           \"QuestionUno\", \"Subcategory\", \"CategoryUno\", \"SubcategoryUno\", \"AskedByClientUno\", \"TakenByAttorneyUno\", \"ClosedByAttorneyUno\",\n",
        "           \"AskedOnUtc\", \"TakenOnUtc\", \"ClosedOnUtc\", \"CreatedUtc_x\", \"CreatedUtc_y\", \"LegalDeadline\"]\n",
        "train.drop(to_drop, inplace=True, axis=1)"
      ]
    },
    {
      "cell_type": "markdown",
      "metadata": {
        "id": "fAs3G1xDKFrd"
      },
      "source": [
        "Fill null values & Eliminate outliers"
      ]
    },
    {
      "cell_type": "code",
      "execution_count": null,
      "metadata": {
        "id": "Xc59oxooKBW2"
      },
      "outputs": [],
      "source": [
        "# fill null values\n",
        "train.fillna(np.nan, inplace=True)\n",
        "columns = list(train.columns)\n",
        "\n",
        "for col in columns:\n",
        "  if train[col].dtype in [np.float64, np.int64]:\n",
        "    random_value = np.random.choice(train[col].dropna())\n",
        "  else:\n",
        "    value_counts = train[col].value_counts(normalize=True)\n",
        "    random_value = np.random.choice(value_counts.index, p=value_counts.values)\n",
        "  train[col].fillna(random_value, inplace=True)"
      ]
    },
    {
      "cell_type": "code",
      "execution_count": null,
      "metadata": {
        "id": "vJ9CgU1HKKnR"
      },
      "outputs": [],
      "source": [
        "# change Repeat type from int to float\n",
        "train['Repeat'] = train['Repeat'].astype(float)"
      ]
    },
    {
      "cell_type": "code",
      "execution_count": null,
      "metadata": {
        "id": "_HtjTR10KKs_"
      },
      "outputs": [],
      "source": [
        "# eliminate outliers\n",
        "for col in train.columns:\n",
        "  if train[col].dtype in [np.float64, np.int64]:\n",
        "    mean = train[col].mean()\n",
        "    std = train[col].std()\n",
        "    upper_bound = mean + 3*std\n",
        "    lower_bound = mean - 3*std\n",
        "    train = train[(train[col] > lower_bound) & (train[col] < upper_bound)]"
      ]
    },
    {
      "cell_type": "markdown",
      "metadata": {
        "id": "n-0-2L3MKTHG"
      },
      "source": [
        "# EDA & Visualization\n"
      ]
    },
    {
      "cell_type": "code",
      "execution_count": null,
      "metadata": {
        "colab": {
          "base_uri": "https://localhost:8080/",
          "height": 54
        },
        "id": "TmE3CCY_KTqt",
        "outputId": "c76d3566-c0fa-4d40-dc79-8920e11f8f2e"
      },
      "outputs": [
        {
          "output_type": "display_data",
          "data": {
            "text/plain": [
              "<Figure size 1000x1000 with 2 Axes>"
            ],
            "image/png": "[encoded data removed]"
          },
          "metadata": {}
        }
      ],
      "source": [
        "features = ['NumberInHousehold', 'Veteran', 'Client_state', 'Category',\n",
        "                     'Attorney_state', 'MaritalStatus', 'Gender', 'CheckingBalance', 'Imprisoned', 'Age', 'AnnualIncome', 'Repeat']\n",
        "X = train[features]\n",
        "\n",
        "plt.subplots(figsize=(10, 10))\n",
        "sns.heatmap(X.corr(), annot=True, cmap=\"RdYlGn\")\n",
        "plt.show()"
      ]
    },
    {
      "cell_type": "markdown",
      "metadata": {
        "id": "JkRH0OXPKZOx"
      },
      "source": [
        "# Label Encoder"
      ]
    },
    {
      "cell_type": "code",
      "execution_count": null,
      "metadata": {
        "id": "0t0vIULqKV8A"
      },
      "outputs": [],
      "source": [
        "#convert categorical variables\n",
        "labelencoder = LabelEncoder()\n",
        "train['MaritalStatus'] = labelencoder.fit_transform(train['MaritalStatus'])\n",
        "train['Gender'] = labelencoder.fit_transform(train['Gender'])\n",
        "train['Imprisoned'] = labelencoder.fit_transform(train['Imprisoned'])\n",
        "train['Veteran'] = labelencoder.fit_transform(train['Veteran'])\n",
        "train['Client_state'] = labelencoder.fit_transform(train['Veteran'])\n",
        "train['Attorney_state'] = labelencoder.fit_transform(train['Veteran'])\n",
        "train['Category'] = labelencoder.fit_transform(train['Veteran'])"
      ]
    },
    {
      "cell_type": "markdown",
      "source": [
        "# Feature Elimination"
      ],
      "metadata": {
        "id": "06OH3XtUmow5"
      }
    },
    {
      "cell_type": "markdown",
      "source": [
        "*Recursive* Feature Elimination"
      ],
      "metadata": {
        "id": "JLxCKd9om4Ie"
      }
    },
    {
      "cell_type": "code",
      "source": [
        "from sklearn.feature_selection import RFE\n",
        "from sklearn.tree import DecisionTreeClassifier\n",
        "\n",
        "# separate the target variable from the feature variables\n",
        "y = train['Repeat']\n",
        "X = train.drop('Repeat', axis=1)\n",
        "# define estimator\n",
        "estimator = DecisionTreeClassifier()\n",
        "# define method\n",
        "rfe = RFE(estimator=estimator, n_features_to_select=5)\n",
        "\n",
        "# fit model\n",
        "rfe.fit(X, y)\n",
        "# transform data\n",
        "X_rfe = rfe.transform(X)\n",
        "# print selected features\n",
        "print(X.columns[rfe.support_])"
      ],
      "metadata": {
        "colab": {
          "base_uri": "https://localhost:8080/"
        },
        "id": "N05WMG58mn96",
        "outputId": "a532306d-afda-41a2-f0f2-174ef3d14103"
      },
      "execution_count": null,
      "outputs": [
        {
          "output_type": "stream",
          "name": "stdout",
          "text": [
            "Index(['Age', 'MaritalStatus', 'NumberInHousehold', 'AnnualIncome',\n",
            "       'CheckingBalance'],\n",
            "      dtype='object')\n"
          ]
        }
      ]
    },
    {
      "cell_type": "markdown",
      "source": [
        "Decision Tree Regressor"
      ],
      "metadata": {
        "id": "CxmyX1NHnLPs"
      }
    },
    {
      "cell_type": "code",
      "source": [
        "target_variable = train[['Repeat']]\n",
        "feature_columns = train.drop('Repeat', axis=1)\n",
        "\n",
        "dtree = DecisionTreeRegressor()\n",
        "dtree.fit(feature_columns, target_variable)\n",
        "\n",
        "# Get the feature importances\n",
        "importances = dtree.feature_importances_\n",
        "# Get the indices of the top 5 features\n",
        "top_indices = importances.argsort()[-5:]\n",
        "# Get the names of the top 5 features\n",
        "top_features = feature_columns.columns[top_indices]\n",
        "print(top_features)\n",
        "\n",
        "# Train the decision tree regressor using only the top 5 features\n",
        "dtree_top = DecisionTreeRegressor()\n",
        "dtree_top.fit(feature_columns[top_features], target_variable)\n",
        "# Evaluate the model\n",
        "predictions = dtree_top.predict(feature_columns[top_features])\n",
        "mse = mean_squared_error(target_variable, predictions)\n",
        "print(f\"Mean squared error: {mse}\")"
      ],
      "metadata": {
        "colab": {
          "base_uri": "https://localhost:8080/"
        },
        "id": "GUhYEhf8nNbG",
        "outputId": "eb6428dd-0c99-49f3-ecf5-63b57e562641"
      },
      "execution_count": null,
      "outputs": [
        {
          "output_type": "stream",
          "name": "stdout",
          "text": [
            "Index(['MaritalStatus', 'NumberInHousehold', 'Age', 'CheckingBalance',\n",
            "       'AnnualIncome'],\n",
            "      dtype='object')\n",
            "Mean squared error: 0.04390159478522999\n"
          ]
        }
      ]
    },
    {
      "cell_type": "markdown",
      "metadata": {
        "id": "VHwNbB41OeAj"
      },
      "source": [
        "# Oversampling & Data Splitting"
      ]
    },
    {
      "cell_type": "code",
      "execution_count": null,
      "metadata": {
        "id": "O9K7ZkGvOmKc"
      },
      "outputs": [],
      "source": [
        "X = train[['Age', 'MaritalStatus', 'NumberInHousehold',\n",
        "           'AnnualIncome', 'CheckingBalance']]\n",
        "y = train['Repeat']"
      ]
    },
    {
      "cell_type": "code",
      "execution_count": null,
      "metadata": {
        "id": "VpyAIpqzSsGV",
        "colab": {
          "base_uri": "https://localhost:8080/"
        },
        "outputId": "2d23499a-83d1-4982-d009-35e13218d09a"
      },
      "outputs": [
        {
          "output_type": "execute_result",
          "data": {
            "text/plain": [
              "0.0    113041\n",
              "1.0     27540\n",
              "Name: Repeat, dtype: int64"
            ]
          },
          "metadata": {},
          "execution_count": 90
        }
      ],
      "source": [
        "# to see if data is imbalance\n",
        "train['Repeat'].value_counts()\n",
        "# data is highly imbalance"
      ]
    },
    {
      "cell_type": "code",
      "execution_count": null,
      "metadata": {
        "id": "LCjUUeVYS5v6",
        "colab": {
          "base_uri": "https://localhost:8080/"
        },
        "outputId": "61bbe474-29a7-40f0-e0ba-0ed265c332d5"
      },
      "outputs": [
        {
          "output_type": "execute_result",
          "data": {
            "text/plain": [
              "1.0    58801\n",
              "0.0    44162\n",
              "Name: Repeat, dtype: int64"
            ]
          },
          "metadata": {},
          "execution_count": 91
        }
      ],
      "source": [
        "# balance data\n",
        "from pandas.core.common import random_state\n",
        "from imblearn.combine import SMOTEENN\n",
        "smtn = SMOTEENN(random_state = 0)\n",
        "# train model\n",
        "smtn.fit(X, y)\n",
        "# make samples\n",
        "X, y = smtn.fit_resample(X, y)\n",
        "y.value_counts()"
      ]
    },
    {
      "cell_type": "code",
      "execution_count": null,
      "metadata": {
        "id": "-URCkQZbTWe8"
      },
      "outputs": [],
      "source": [
        "# split data (80% train, 20% test)\n",
        "X_train, X_test, y_train, y_test = train_test_split(X, y, test_size=0.2, random_state=0)"
      ]
    },
    {
      "cell_type": "markdown",
      "metadata": {
        "id": "kO9sbcD7kjg2"
      },
      "source": [
        "# Run Model"
      ]
    },
    {
      "cell_type": "markdown",
      "source": [
        "Logistics"
      ],
      "metadata": {
        "id": "JSPeNNgfoAAs"
      }
    },
    {
      "cell_type": "code",
      "execution_count": null,
      "metadata": {
        "id": "bYhXXMKzkjg2"
      },
      "outputs": [],
      "source": [
        "# import libraries\n",
        "from sklearn.preprocessing import StandardScaler, MinMaxScaler, OrdinalEncoder\n",
        "from sklearn.compose import make_column_transformer\n",
        "from sklearn.model_selection import train_test_split\n",
        "from sklearn.linear_model import LogisticRegression\n",
        "from sklearn.metrics import accuracy_score, confusion_matrix, classification_report"
      ]
    },
    {
      "cell_type": "code",
      "execution_count": null,
      "metadata": {
        "id": "ELb8eUP-kjg3"
      },
      "outputs": [],
      "source": [
        "def print_score(clf, X_train, y_train, X_test, y_test, train=True):\n",
        "    if train:\n",
        "        pred = clf.predict(X_train)\n",
        "        clf_report = pd.DataFrame(classification_report(y_train, pred, output_dict=True))\n",
        "        print(\"Train Result:\\n================================================\")\n",
        "        print(f\"Accuracy Score: {accuracy_score(y_train, pred) * 100:.2f}%\")\n",
        "        print(\"_______________________________________________\")\n",
        "        print(f\"CLASSIFICATION REPORT:\\n{clf_report}\")\n",
        "        print(\"_______________________________________________\")\n",
        "        print(f\"Confusion Matrix: \\n {confusion_matrix(y_train, pred)}\\n\")\n",
        "\n",
        "    elif train==False:\n",
        "        pred = clf.predict(X_test)\n",
        "        clf_report = pd.DataFrame(classification_report(y_test, pred, output_dict=True))\n",
        "        print(\"Test Result:\\n================================================\")\n",
        "        print(f\"Accuracy Score: {accuracy_score(y_test, pred) * 100:.2f}%\")\n",
        "        print(\"_______________________________________________\")\n",
        "        print(f\"CLASSIFICATION REPORT:\\n{clf_report}\")\n",
        "        print(\"_______________________________________________\")\n",
        "        print(f\"Confusion Matrix: \\n {confusion_matrix(y_test, pred)}\\n\")"
      ]
    },
    {
      "cell_type": "markdown",
      "metadata": {
        "id": "jZ5WqQ9xkjg3"
      },
      "source": [
        "Random Forest"
      ]
    },
    {
      "cell_type": "code",
      "execution_count": null,
      "metadata": {
        "colab": {
          "base_uri": "https://localhost:8080/"
        },
        "id": "1WBcY0t6kjg3",
        "outputId": "7e4536d7-e6c8-42ef-d1f1-e4bb3d5b3198"
      },
      "outputs": [
        {
          "output_type": "stream",
          "name": "stdout",
          "text": [
            "Train Result:\n",
            "================================================\n",
            "Accuracy Score: 99.97%\n",
            "_______________________________________________\n",
            "CLASSIFICATION REPORT:\n",
            "                    0.0           1.0  accuracy     macro avg  weighted avg\n",
            "precision      0.999237      1.000000  0.999672      0.999618      0.999672\n",
            "recall         1.000000      0.999426  0.999672      0.999713      0.999672\n",
            "f1-score       0.999618      0.999713  0.999672      0.999666      0.999672\n",
            "support    35345.000000  47025.000000  0.999672  82370.000000  82370.000000\n",
            "_______________________________________________\n",
            "Confusion Matrix: \n",
            " [[35345     0]\n",
            " [   27 46998]]\n",
            "\n",
            "Test Result:\n",
            "================================================\n",
            "Accuracy Score: 89.20%\n",
            "_______________________________________________\n",
            "CLASSIFICATION REPORT:\n",
            "                   0.0           1.0  accuracy     macro avg  weighted avg\n",
            "precision     0.845003      0.932687  0.892002      0.888845      0.895145\n",
            "recall        0.915731      0.874236  0.892002      0.894983      0.892002\n",
            "f1-score      0.878946      0.902516  0.892002      0.890731      0.892424\n",
            "support    8817.000000  11776.000000  0.892002  20593.000000  20593.000000\n",
            "_______________________________________________\n",
            "Confusion Matrix: \n",
            " [[ 8074   743]\n",
            " [ 1481 10295]]\n",
            "\n"
          ]
        }
      ],
      "source": [
        "from sklearn.ensemble import RandomForestClassifier\n",
        "\n",
        "rf_clf = RandomForestClassifier(n_estimators=200)\n",
        "rf_clf.fit(X_train, y_train)\n",
        "\n",
        "print_score(rf_clf, X_train, y_train, X_test, y_test, train=True)\n",
        "print_score(rf_clf, X_train, y_train, X_test, y_test, train=False)"
      ]
    },
    {
      "cell_type": "markdown",
      "metadata": {
        "id": "--bfSbLakjg3"
      },
      "source": [
        "KNN"
      ]
    },
    {
      "cell_type": "code",
      "execution_count": null,
      "metadata": {
        "scrolled": false,
        "colab": {
          "base_uri": "https://localhost:8080/"
        },
        "id": "pirn_b3Akjg3",
        "outputId": "59824f03-3b16-4956-f205-5d9b421f6722"
      },
      "outputs": [
        {
          "output_type": "stream",
          "name": "stdout",
          "text": [
            "Train Result:\n",
            "================================================\n",
            "Accuracy Score: 99.93%\n",
            "_______________________________________________\n",
            "CLASSIFICATION REPORT:\n",
            "                    0.0           1.0  accuracy     macro avg  weighted avg\n",
            "precision      0.999547      0.999171  0.999332      0.999359      0.999332\n",
            "recall         0.998897      0.999660  0.999332      0.999278      0.999332\n",
            "f1-score       0.999222      0.999415  0.999332      0.999319      0.999332\n",
            "support    35345.000000  47025.000000  0.999332  82370.000000  82370.000000\n",
            "_______________________________________________\n",
            "Confusion Matrix: \n",
            " [[35306    39]\n",
            " [   16 47009]]\n",
            "\n",
            "Test Result:\n",
            "================================================\n",
            "Accuracy Score: 97.09%\n",
            "_______________________________________________\n",
            "CLASSIFICATION REPORT:\n",
            "                   0.0           1.0  accuracy     macro avg  weighted avg\n",
            "precision     0.972951      0.969425  0.970912      0.971188      0.970935\n",
            "recall        0.958716      0.980044  0.970912      0.969380      0.970912\n",
            "f1-score      0.965781      0.974705  0.970912      0.970243      0.970884\n",
            "support    8817.000000  11776.000000  0.970912  20593.000000  20593.000000\n",
            "_______________________________________________\n",
            "Confusion Matrix: \n",
            " [[ 8453   364]\n",
            " [  235 11541]]\n",
            "\n"
          ]
        }
      ],
      "source": [
        "from sklearn.neighbors import KNeighborsClassifier\n",
        "knn = KNeighborsClassifier(n_neighbors=1, weights='distance',algorithm='kd_tree',n_jobs=-1)\n",
        "knn.fit(X_train,y_train)\n",
        "y_predknn = knn.predict(X_test)\n",
        "\n",
        "print_score(knn, X_train, y_train, X_test, y_test, train=True)\n",
        "print_score(knn, X_train, y_train, X_test, y_test, train=False)"
      ]
    }
  ],
  "metadata": {
    "colab": {
      "collapsed_sections": [
        "9TrXDXdJJBwC",
        "TSalxEW7Jm42",
        "n-0-2L3MKTHG",
        "JkRH0OXPKZOx",
        "06OH3XtUmow5"
      ],
      "provenance": [],
      "toc_visible": true,
      "include_colab_link": true
    },
    "kernelspec": {
      "display_name": "Python 3 (ipykernel)",
      "language": "python",
      "name": "python3"
    },
    "language_info": {
      "codemirror_mode": {
        "name": "ipython",
        "version": 3
      },
      "file_extension": ".py",
      "mimetype": "text/x-python",
      "name": "python",
      "nbconvert_exporter": "python",
      "pygments_lexer": "ipython3",
      "version": "3.9.13"
    }
  },
  "nbformat": 4,
  "nbformat_minor": 0
}